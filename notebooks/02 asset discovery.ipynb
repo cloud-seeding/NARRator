{
 "cells": [
  {
   "cell_type": "markdown",
   "metadata": {},
   "source": [
    "# Asset Discover\n",
    "\n",
    "1. Exploring `narr_catalog.csv`, and uncovering the schema behind their naming conditions.\n",
    "2. Writing logic to transform csv to metadata about data flow.\n"
   ]
  },
  {
   "cell_type": "code",
   "execution_count": 2,
   "metadata": {},
   "outputs": [],
   "source": [
    "import pandas as pd"
   ]
  },
  {
   "cell_type": "code",
   "execution_count": 3,
   "metadata": {},
   "outputs": [],
   "source": [
    "df = pd.read_csv('../scraped/narr_catalog.csv')"
   ]
  },
  {
   "cell_type": "code",
   "execution_count": 4,
   "metadata": {},
   "outputs": [
    {
     "data": {
      "text/html": [
       "<div>\n",
       "<style scoped>\n",
       "    .dataframe tbody tr th:only-of-type {\n",
       "        vertical-align: middle;\n",
       "    }\n",
       "\n",
       "    .dataframe tbody tr th {\n",
       "        vertical-align: top;\n",
       "    }\n",
       "\n",
       "    .dataframe thead th {\n",
       "        text-align: right;\n",
       "    }\n",
       "</style>\n",
       "<table border=\"1\" class=\"dataframe\">\n",
       "  <thead>\n",
       "    <tr style=\"text-align: right;\">\n",
       "      <th></th>\n",
       "      <th>name</th>\n",
       "      <th>url</th>\n",
       "      <th>p1</th>\n",
       "      <th>p2</th>\n",
       "      <th>p3</th>\n",
       "      <th>p4</th>\n",
       "    </tr>\n",
       "  </thead>\n",
       "  <tbody>\n",
       "    <tr>\n",
       "      <th>0</th>\n",
       "      <td>acpcp.1979.nc</td>\n",
       "      <td>https://psl.noaa.gov/thredds/catalog/Datasets/...</td>\n",
       "      <td>monolevel</td>\n",
       "      <td>Dailies</td>\n",
       "      <td>NARR</td>\n",
       "      <td>catalog.html?dataset=Datasets</td>\n",
       "    </tr>\n",
       "    <tr>\n",
       "      <th>1</th>\n",
       "      <td>acpcp.1980.nc</td>\n",
       "      <td>https://psl.noaa.gov/thredds/catalog/Datasets/...</td>\n",
       "      <td>monolevel</td>\n",
       "      <td>Dailies</td>\n",
       "      <td>NARR</td>\n",
       "      <td>catalog.html?dataset=Datasets</td>\n",
       "    </tr>\n",
       "    <tr>\n",
       "      <th>2</th>\n",
       "      <td>acpcp.1981.nc</td>\n",
       "      <td>https://psl.noaa.gov/thredds/catalog/Datasets/...</td>\n",
       "      <td>monolevel</td>\n",
       "      <td>Dailies</td>\n",
       "      <td>NARR</td>\n",
       "      <td>catalog.html?dataset=Datasets</td>\n",
       "    </tr>\n",
       "    <tr>\n",
       "      <th>3</th>\n",
       "      <td>acpcp.1982.nc</td>\n",
       "      <td>https://psl.noaa.gov/thredds/catalog/Datasets/...</td>\n",
       "      <td>monolevel</td>\n",
       "      <td>Dailies</td>\n",
       "      <td>NARR</td>\n",
       "      <td>catalog.html?dataset=Datasets</td>\n",
       "    </tr>\n",
       "    <tr>\n",
       "      <th>4</th>\n",
       "      <td>acpcp.1983.nc</td>\n",
       "      <td>https://psl.noaa.gov/thredds/catalog/Datasets/...</td>\n",
       "      <td>monolevel</td>\n",
       "      <td>Dailies</td>\n",
       "      <td>NARR</td>\n",
       "      <td>catalog.html?dataset=Datasets</td>\n",
       "    </tr>\n",
       "  </tbody>\n",
       "</table>\n",
       "</div>"
      ],
      "text/plain": [
       "            name                                                url  \\\n",
       "0  acpcp.1979.nc  https://psl.noaa.gov/thredds/catalog/Datasets/...   \n",
       "1  acpcp.1980.nc  https://psl.noaa.gov/thredds/catalog/Datasets/...   \n",
       "2  acpcp.1981.nc  https://psl.noaa.gov/thredds/catalog/Datasets/...   \n",
       "3  acpcp.1982.nc  https://psl.noaa.gov/thredds/catalog/Datasets/...   \n",
       "4  acpcp.1983.nc  https://psl.noaa.gov/thredds/catalog/Datasets/...   \n",
       "\n",
       "          p1       p2    p3                             p4  \n",
       "0  monolevel  Dailies  NARR  catalog.html?dataset=Datasets  \n",
       "1  monolevel  Dailies  NARR  catalog.html?dataset=Datasets  \n",
       "2  monolevel  Dailies  NARR  catalog.html?dataset=Datasets  \n",
       "3  monolevel  Dailies  NARR  catalog.html?dataset=Datasets  \n",
       "4  monolevel  Dailies  NARR  catalog.html?dataset=Datasets  "
      ]
     },
     "execution_count": 4,
     "metadata": {},
     "output_type": "execute_result"
    }
   ],
   "source": [
    "df.head()"
   ]
  },
  {
   "cell_type": "markdown",
   "metadata": {},
   "source": [
    "## Grouping\n"
   ]
  },
  {
   "cell_type": "code",
   "execution_count": 8,
   "metadata": {},
   "outputs": [
    {
     "data": {
      "text/plain": [
       "np.True_"
      ]
     },
     "execution_count": 8,
     "metadata": {},
     "output_type": "execute_result"
    }
   ],
   "source": [
    "# Checking if .nc in all rows of \"name\"\n",
    "\n",
    "df['name'].str.endswith('.nc').all()"
   ]
  },
  {
   "cell_type": "code",
   "execution_count": 9,
   "metadata": {},
   "outputs": [
    {
     "data": {
      "text/html": [
       "<div>\n",
       "<style scoped>\n",
       "    .dataframe tbody tr th:only-of-type {\n",
       "        vertical-align: middle;\n",
       "    }\n",
       "\n",
       "    .dataframe tbody tr th {\n",
       "        vertical-align: top;\n",
       "    }\n",
       "\n",
       "    .dataframe thead th {\n",
       "        text-align: right;\n",
       "    }\n",
       "</style>\n",
       "<table border=\"1\" class=\"dataframe\">\n",
       "  <thead>\n",
       "    <tr style=\"text-align: right;\">\n",
       "      <th></th>\n",
       "      <th>name</th>\n",
       "      <th>url</th>\n",
       "      <th>p1</th>\n",
       "      <th>p2</th>\n",
       "      <th>p3</th>\n",
       "    </tr>\n",
       "  </thead>\n",
       "  <tbody>\n",
       "    <tr>\n",
       "      <th>0</th>\n",
       "      <td>acpcp.1979</td>\n",
       "      <td>https://psl.noaa.gov/thredds/catalog/Datasets/...</td>\n",
       "      <td>monolevel</td>\n",
       "      <td>Dailies</td>\n",
       "      <td>NARR</td>\n",
       "    </tr>\n",
       "    <tr>\n",
       "      <th>1</th>\n",
       "      <td>acpcp.1980</td>\n",
       "      <td>https://psl.noaa.gov/thredds/catalog/Datasets/...</td>\n",
       "      <td>monolevel</td>\n",
       "      <td>Dailies</td>\n",
       "      <td>NARR</td>\n",
       "    </tr>\n",
       "    <tr>\n",
       "      <th>2</th>\n",
       "      <td>acpcp.1981</td>\n",
       "      <td>https://psl.noaa.gov/thredds/catalog/Datasets/...</td>\n",
       "      <td>monolevel</td>\n",
       "      <td>Dailies</td>\n",
       "      <td>NARR</td>\n",
       "    </tr>\n",
       "    <tr>\n",
       "      <th>3</th>\n",
       "      <td>acpcp.1982</td>\n",
       "      <td>https://psl.noaa.gov/thredds/catalog/Datasets/...</td>\n",
       "      <td>monolevel</td>\n",
       "      <td>Dailies</td>\n",
       "      <td>NARR</td>\n",
       "    </tr>\n",
       "    <tr>\n",
       "      <th>4</th>\n",
       "      <td>acpcp.1983</td>\n",
       "      <td>https://psl.noaa.gov/thredds/catalog/Datasets/...</td>\n",
       "      <td>monolevel</td>\n",
       "      <td>Dailies</td>\n",
       "      <td>NARR</td>\n",
       "    </tr>\n",
       "  </tbody>\n",
       "</table>\n",
       "</div>"
      ],
      "text/plain": [
       "         name                                                url         p1  \\\n",
       "0  acpcp.1979  https://psl.noaa.gov/thredds/catalog/Datasets/...  monolevel   \n",
       "1  acpcp.1980  https://psl.noaa.gov/thredds/catalog/Datasets/...  monolevel   \n",
       "2  acpcp.1981  https://psl.noaa.gov/thredds/catalog/Datasets/...  monolevel   \n",
       "3  acpcp.1982  https://psl.noaa.gov/thredds/catalog/Datasets/...  monolevel   \n",
       "4  acpcp.1983  https://psl.noaa.gov/thredds/catalog/Datasets/...  monolevel   \n",
       "\n",
       "        p2    p3  \n",
       "0  Dailies  NARR  \n",
       "1  Dailies  NARR  \n",
       "2  Dailies  NARR  \n",
       "3  Dailies  NARR  \n",
       "4  Dailies  NARR  "
      ]
     },
     "execution_count": 9,
     "metadata": {},
     "output_type": "execute_result"
    }
   ],
   "source": [
    "# Removing .nc from all rows of \"name\"\n",
    "\n",
    "df['name'] = df['name'].str.replace('.nc', '')\n",
    "df.head()"
   ]
  },
  {
   "cell_type": "code",
   "execution_count": 12,
   "metadata": {},
   "outputs": [
    {
     "data": {
      "text/html": [
       "<div>\n",
       "<style scoped>\n",
       "    .dataframe tbody tr th:only-of-type {\n",
       "        vertical-align: middle;\n",
       "    }\n",
       "\n",
       "    .dataframe tbody tr th {\n",
       "        vertical-align: top;\n",
       "    }\n",
       "\n",
       "    .dataframe thead th {\n",
       "        text-align: right;\n",
       "    }\n",
       "</style>\n",
       "<table border=\"1\" class=\"dataframe\">\n",
       "  <thead>\n",
       "    <tr style=\"text-align: right;\">\n",
       "      <th></th>\n",
       "      <th>name</th>\n",
       "      <th>url</th>\n",
       "      <th>p1</th>\n",
       "      <th>p2</th>\n",
       "      <th>p3</th>\n",
       "    </tr>\n",
       "  </thead>\n",
       "  <tbody>\n",
       "    <tr>\n",
       "      <th>18387</th>\n",
       "      <td>tsoil.202406</td>\n",
       "      <td>https://psl.noaa.gov/thredds/catalog/Datasets/...</td>\n",
       "      <td>subsurface</td>\n",
       "      <td>NARR</td>\n",
       "      <td>catalog.html?dataset=Datasets</td>\n",
       "    </tr>\n",
       "    <tr>\n",
       "      <th>18388</th>\n",
       "      <td>tsoil.202407</td>\n",
       "      <td>https://psl.noaa.gov/thredds/catalog/Datasets/...</td>\n",
       "      <td>subsurface</td>\n",
       "      <td>NARR</td>\n",
       "      <td>catalog.html?dataset=Datasets</td>\n",
       "    </tr>\n",
       "    <tr>\n",
       "      <th>18389</th>\n",
       "      <td>tsoil.202408</td>\n",
       "      <td>https://psl.noaa.gov/thredds/catalog/Datasets/...</td>\n",
       "      <td>subsurface</td>\n",
       "      <td>NARR</td>\n",
       "      <td>catalog.html?dataset=Datasets</td>\n",
       "    </tr>\n",
       "    <tr>\n",
       "      <th>18390</th>\n",
       "      <td>hgt.sfc</td>\n",
       "      <td>https://psl.noaa.gov/thredds/catalog/Datasets/...</td>\n",
       "      <td>time_invariant</td>\n",
       "      <td>NARR</td>\n",
       "      <td>catalog.html?dataset=Datasets</td>\n",
       "    </tr>\n",
       "    <tr>\n",
       "      <th>18391</th>\n",
       "      <td>land</td>\n",
       "      <td>https://psl.noaa.gov/thredds/catalog/Datasets/...</td>\n",
       "      <td>time_invariant</td>\n",
       "      <td>NARR</td>\n",
       "      <td>catalog.html?dataset=Datasets</td>\n",
       "    </tr>\n",
       "  </tbody>\n",
       "</table>\n",
       "</div>"
      ],
      "text/plain": [
       "               name                                                url  \\\n",
       "18387  tsoil.202406  https://psl.noaa.gov/thredds/catalog/Datasets/...   \n",
       "18388  tsoil.202407  https://psl.noaa.gov/thredds/catalog/Datasets/...   \n",
       "18389  tsoil.202408  https://psl.noaa.gov/thredds/catalog/Datasets/...   \n",
       "18390       hgt.sfc  https://psl.noaa.gov/thredds/catalog/Datasets/...   \n",
       "18391          land  https://psl.noaa.gov/thredds/catalog/Datasets/...   \n",
       "\n",
       "                   p1    p2                             p3  \n",
       "18387      subsurface  NARR  catalog.html?dataset=Datasets  \n",
       "18388      subsurface  NARR  catalog.html?dataset=Datasets  \n",
       "18389      subsurface  NARR  catalog.html?dataset=Datasets  \n",
       "18390  time_invariant  NARR  catalog.html?dataset=Datasets  \n",
       "18391  time_invariant  NARR  catalog.html?dataset=Datasets  "
      ]
     },
     "execution_count": 12,
     "metadata": {},
     "output_type": "execute_result"
    }
   ],
   "source": [
    "df.tail()"
   ]
  },
  {
   "cell_type": "code",
   "execution_count": 14,
   "metadata": {},
   "outputs": [],
   "source": [
    "# Splitting \"name\" into \"name\" and \"plus\", will have Nan if no plus\n",
    "\n",
    "df[['name', 'plus']] = df['name'].str.split('.', n=1, expand=True)"
   ]
  },
  {
   "cell_type": "code",
   "execution_count": 15,
   "metadata": {},
   "outputs": [
    {
     "data": {
      "text/html": [
       "<div>\n",
       "<style scoped>\n",
       "    .dataframe tbody tr th:only-of-type {\n",
       "        vertical-align: middle;\n",
       "    }\n",
       "\n",
       "    .dataframe tbody tr th {\n",
       "        vertical-align: top;\n",
       "    }\n",
       "\n",
       "    .dataframe thead th {\n",
       "        text-align: right;\n",
       "    }\n",
       "</style>\n",
       "<table border=\"1\" class=\"dataframe\">\n",
       "  <thead>\n",
       "    <tr style=\"text-align: right;\">\n",
       "      <th></th>\n",
       "      <th>name</th>\n",
       "      <th>url</th>\n",
       "      <th>p1</th>\n",
       "      <th>p2</th>\n",
       "      <th>p3</th>\n",
       "      <th>plus</th>\n",
       "    </tr>\n",
       "  </thead>\n",
       "  <tbody>\n",
       "    <tr>\n",
       "      <th>0</th>\n",
       "      <td>acpcp</td>\n",
       "      <td>https://psl.noaa.gov/thredds/catalog/Datasets/...</td>\n",
       "      <td>monolevel</td>\n",
       "      <td>Dailies</td>\n",
       "      <td>NARR</td>\n",
       "      <td>1979</td>\n",
       "    </tr>\n",
       "    <tr>\n",
       "      <th>1</th>\n",
       "      <td>acpcp</td>\n",
       "      <td>https://psl.noaa.gov/thredds/catalog/Datasets/...</td>\n",
       "      <td>monolevel</td>\n",
       "      <td>Dailies</td>\n",
       "      <td>NARR</td>\n",
       "      <td>1980</td>\n",
       "    </tr>\n",
       "    <tr>\n",
       "      <th>2</th>\n",
       "      <td>acpcp</td>\n",
       "      <td>https://psl.noaa.gov/thredds/catalog/Datasets/...</td>\n",
       "      <td>monolevel</td>\n",
       "      <td>Dailies</td>\n",
       "      <td>NARR</td>\n",
       "      <td>1981</td>\n",
       "    </tr>\n",
       "    <tr>\n",
       "      <th>3</th>\n",
       "      <td>acpcp</td>\n",
       "      <td>https://psl.noaa.gov/thredds/catalog/Datasets/...</td>\n",
       "      <td>monolevel</td>\n",
       "      <td>Dailies</td>\n",
       "      <td>NARR</td>\n",
       "      <td>1982</td>\n",
       "    </tr>\n",
       "    <tr>\n",
       "      <th>4</th>\n",
       "      <td>acpcp</td>\n",
       "      <td>https://psl.noaa.gov/thredds/catalog/Datasets/...</td>\n",
       "      <td>monolevel</td>\n",
       "      <td>Dailies</td>\n",
       "      <td>NARR</td>\n",
       "      <td>1983</td>\n",
       "    </tr>\n",
       "  </tbody>\n",
       "</table>\n",
       "</div>"
      ],
      "text/plain": [
       "    name                                                url         p1  \\\n",
       "0  acpcp  https://psl.noaa.gov/thredds/catalog/Datasets/...  monolevel   \n",
       "1  acpcp  https://psl.noaa.gov/thredds/catalog/Datasets/...  monolevel   \n",
       "2  acpcp  https://psl.noaa.gov/thredds/catalog/Datasets/...  monolevel   \n",
       "3  acpcp  https://psl.noaa.gov/thredds/catalog/Datasets/...  monolevel   \n",
       "4  acpcp  https://psl.noaa.gov/thredds/catalog/Datasets/...  monolevel   \n",
       "\n",
       "        p2    p3  plus  \n",
       "0  Dailies  NARR  1979  \n",
       "1  Dailies  NARR  1980  \n",
       "2  Dailies  NARR  1981  \n",
       "3  Dailies  NARR  1982  \n",
       "4  Dailies  NARR  1983  "
      ]
     },
     "execution_count": 15,
     "metadata": {},
     "output_type": "execute_result"
    }
   ],
   "source": [
    "df.head()"
   ]
  },
  {
   "cell_type": "code",
   "execution_count": 16,
   "metadata": {},
   "outputs": [
    {
     "data": {
      "text/html": [
       "<div>\n",
       "<style scoped>\n",
       "    .dataframe tbody tr th:only-of-type {\n",
       "        vertical-align: middle;\n",
       "    }\n",
       "\n",
       "    .dataframe tbody tr th {\n",
       "        vertical-align: top;\n",
       "    }\n",
       "\n",
       "    .dataframe thead th {\n",
       "        text-align: right;\n",
       "    }\n",
       "</style>\n",
       "<table border=\"1\" class=\"dataframe\">\n",
       "  <thead>\n",
       "    <tr style=\"text-align: right;\">\n",
       "      <th></th>\n",
       "      <th>name</th>\n",
       "      <th>url</th>\n",
       "      <th>p1</th>\n",
       "      <th>p2</th>\n",
       "      <th>p3</th>\n",
       "      <th>plus</th>\n",
       "    </tr>\n",
       "  </thead>\n",
       "  <tbody>\n",
       "    <tr>\n",
       "      <th>18387</th>\n",
       "      <td>tsoil</td>\n",
       "      <td>https://psl.noaa.gov/thredds/catalog/Datasets/...</td>\n",
       "      <td>subsurface</td>\n",
       "      <td>NARR</td>\n",
       "      <td>catalog.html?dataset=Datasets</td>\n",
       "      <td>202406</td>\n",
       "    </tr>\n",
       "    <tr>\n",
       "      <th>18388</th>\n",
       "      <td>tsoil</td>\n",
       "      <td>https://psl.noaa.gov/thredds/catalog/Datasets/...</td>\n",
       "      <td>subsurface</td>\n",
       "      <td>NARR</td>\n",
       "      <td>catalog.html?dataset=Datasets</td>\n",
       "      <td>202407</td>\n",
       "    </tr>\n",
       "    <tr>\n",
       "      <th>18389</th>\n",
       "      <td>tsoil</td>\n",
       "      <td>https://psl.noaa.gov/thredds/catalog/Datasets/...</td>\n",
       "      <td>subsurface</td>\n",
       "      <td>NARR</td>\n",
       "      <td>catalog.html?dataset=Datasets</td>\n",
       "      <td>202408</td>\n",
       "    </tr>\n",
       "    <tr>\n",
       "      <th>18390</th>\n",
       "      <td>hgt</td>\n",
       "      <td>https://psl.noaa.gov/thredds/catalog/Datasets/...</td>\n",
       "      <td>time_invariant</td>\n",
       "      <td>NARR</td>\n",
       "      <td>catalog.html?dataset=Datasets</td>\n",
       "      <td>sfc</td>\n",
       "    </tr>\n",
       "    <tr>\n",
       "      <th>18391</th>\n",
       "      <td>land</td>\n",
       "      <td>https://psl.noaa.gov/thredds/catalog/Datasets/...</td>\n",
       "      <td>time_invariant</td>\n",
       "      <td>NARR</td>\n",
       "      <td>catalog.html?dataset=Datasets</td>\n",
       "      <td>None</td>\n",
       "    </tr>\n",
       "  </tbody>\n",
       "</table>\n",
       "</div>"
      ],
      "text/plain": [
       "        name                                                url  \\\n",
       "18387  tsoil  https://psl.noaa.gov/thredds/catalog/Datasets/...   \n",
       "18388  tsoil  https://psl.noaa.gov/thredds/catalog/Datasets/...   \n",
       "18389  tsoil  https://psl.noaa.gov/thredds/catalog/Datasets/...   \n",
       "18390    hgt  https://psl.noaa.gov/thredds/catalog/Datasets/...   \n",
       "18391   land  https://psl.noaa.gov/thredds/catalog/Datasets/...   \n",
       "\n",
       "                   p1    p2                             p3    plus  \n",
       "18387      subsurface  NARR  catalog.html?dataset=Datasets  202406  \n",
       "18388      subsurface  NARR  catalog.html?dataset=Datasets  202407  \n",
       "18389      subsurface  NARR  catalog.html?dataset=Datasets  202408  \n",
       "18390  time_invariant  NARR  catalog.html?dataset=Datasets     sfc  \n",
       "18391  time_invariant  NARR  catalog.html?dataset=Datasets    None  "
      ]
     },
     "execution_count": 16,
     "metadata": {},
     "output_type": "execute_result"
    }
   ],
   "source": [
    "df.tail()"
   ]
  },
  {
   "cell_type": "code",
   "execution_count": 24,
   "metadata": {},
   "outputs": [
    {
     "data": {
      "text/plain": [
       "{3, 4, 6, 7, 8, 9, 10, 11, 12, 13, 14}"
      ]
     },
     "execution_count": 24,
     "metadata": {},
     "output_type": "execute_result"
    }
   ],
   "source": [
    "# Value counts of length of \"plus\"\n",
    "\n",
    "lengths = set(map(int, df['plus'].str.len().fillna(0)))\n",
    "lengths.remove(0)\n",
    "lengths"
   ]
  },
  {
   "cell_type": "code",
   "execution_count": 26,
   "metadata": {},
   "outputs": [
    {
     "name": "stdout",
     "output_type": "stream",
     "text": [
      "18390    sfc\n",
      "Name: plus, dtype: object\n",
      "11070    1979\n",
      "3359     1980\n",
      "10347    1992\n",
      "1537     1998\n",
      "1955     2002\n",
      "Name: plus, dtype: object\n",
      "7068     199811\n",
      "12966    198309\n",
      "5805     198412\n",
      "13900    201511\n",
      "16889    199012\n",
      "Name: plus, dtype: object\n",
      "9233    mon.ltm\n",
      "9421    2m.1986\n",
      "9425    2m.1990\n",
      "845     2m.1996\n",
      "9195    mon.ltm\n",
      "Name: plus, dtype: object\n",
      "11936    hl1.2017\n",
      "11006    sfc.2007\n",
      "10766    hl1.1997\n",
      "9500     sfc.2019\n",
      "1572     hl1.1987\n",
      "Name: plus, dtype: object\n",
      "12098    ntat.1995\n",
      "11979    ntat.2014\n",
      "12102    ntat.1999\n",
      "2714     ntat.1979\n",
      "11947    ntat.1982\n",
      "Name: plus, dtype: object\n",
      "12487    tropo.2016\n",
      "12490    tropo.2019\n",
      "10453    tropo.2006\n",
      "11178    tropo.1995\n",
      "3126     tropo.2023\n",
      "Name: plus, dtype: object\n",
      "9260    10m.mon.ltm\n",
      "9297    2m.mon.mean\n",
      "9247    10m.mon.ltm\n",
      "9253    10m.mon.ltm\n",
      "9280    2m.mon.mean\n",
      "Name: plus, dtype: object\n",
      "9314    sfc.mon.mean\n",
      "9345    10m.mon.mean\n",
      "9313    hl1.mon.mean\n",
      "9339    sfc.mon.mean\n",
      "9352    10m.mon.mean\n",
      "Name: plus, dtype: object\n",
      "9335    ntat.mon.mean\n",
      "9254    tropo.mon.ltm\n",
      "9207    tropo.mon.ltm\n",
      "9224    tropo.mon.ltm\n",
      "9338    ntat.mon.mean\n",
      "Name: plus, dtype: object\n",
      "9302    tropo.mon.mean\n",
      "9318    tropo.mon.mean\n",
      "9346    tropo.mon.mean\n",
      "Name: plus, dtype: object\n"
     ]
    }
   ],
   "source": [
    "# Sample values of each length type\n",
    "\n",
    "for i in lengths:\n",
    "    subset = df.loc[df['plus'].str.len() == i, 'plus']\n",
    "    if len(subset) >= 5:\n",
    "        print(subset.sample(5))\n",
    "    else:\n",
    "        print(subset)"
   ]
  },
  {
   "cell_type": "markdown",
   "metadata": {},
   "source": [
    "## META information: A tree\n"
   ]
  },
  {
   "cell_type": "code",
   "execution_count": 5,
   "metadata": {},
   "outputs": [
    {
     "data": {
      "text/plain": [
       "array(['catalog.html?dataset=Datasets', nan], dtype=object)"
      ]
     },
     "execution_count": 5,
     "metadata": {},
     "output_type": "execute_result"
    }
   ],
   "source": [
    "df.p4.unique()"
   ]
  },
  {
   "cell_type": "code",
   "execution_count": 6,
   "metadata": {},
   "outputs": [],
   "source": [
    "df.drop(columns=['p4'], inplace=True)"
   ]
  },
  {
   "cell_type": "code",
   "execution_count": null,
   "metadata": {},
   "outputs": [],
   "source": [
    "# A tree of the data, p3 being root"
   ]
  },
  {
   "cell_type": "markdown",
   "metadata": {},
   "source": [
    "## Understanding `name`\n"
   ]
  },
  {
   "cell_type": "code",
   "execution_count": null,
   "metadata": {},
   "outputs": [],
   "source": []
  }
 ],
 "metadata": {
  "kernelspec": {
   "display_name": ".venv",
   "language": "python",
   "name": "python3"
  },
  "language_info": {
   "codemirror_mode": {
    "name": "ipython",
    "version": 3
   },
   "file_extension": ".py",
   "mimetype": "text/x-python",
   "name": "python",
   "nbconvert_exporter": "python",
   "pygments_lexer": "ipython3",
   "version": "3.11.5"
  }
 },
 "nbformat": 4,
 "nbformat_minor": 2
}
